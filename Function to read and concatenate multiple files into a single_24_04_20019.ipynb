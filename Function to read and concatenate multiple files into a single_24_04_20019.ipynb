{
 "cells": [
  {
   "cell_type": "code",
   "execution_count": 5,
   "metadata": {},
   "outputs": [],
   "source": [
    "import pandas as pd\n",
    "import numpy as np\n",
    "import matplotlib as plt\n",
    "from openpyxl import load_workbook\n",
    "import glob, os\n"
   ]
  },
  {
   "cell_type": "code",
   "execution_count": 6,
   "metadata": {},
   "outputs": [
    {
     "name": "stdout",
     "output_type": "stream",
     "text": [
      "c:\\Users\\jonys.arcanjo\\arquivos_sac\n"
     ]
    }
   ],
   "source": [
    "# setting the path\n",
    "path = 'c:\\\\Users\\\\jonys.arcanjo\\\\arquivos_sac'\n",
    "print(path)"
   ]
  },
  {
   "cell_type": "code",
   "execution_count": 7,
   "metadata": {},
   "outputs": [],
   "source": [
    "# Create function to read and concatenate multiple files into a single.\n",
    "\n",
    "def concatenate(fx_in, fx_out):\n",
    "    \n",
    "    \"\"\"\n",
    "    function to read and concatenate multiple files into a single.\n",
    "\n",
    "        Parameters:\n",
    "        \n",
    "           fx_in: Define to path the archives (input)\n",
    "           fx_out: Define the path where to be the salve to new consolidate archive  (output)\n",
    "\n",
    "    Returns:\n",
    "    a consolidated field\n",
    "\n",
    "    \"\"\"\n",
    "        \n",
    "    \n",
    "    os.chdir(fx_in) \n",
    "\n",
    "    fileList=glob.glob(\"*.csv\")# read only \".csv\" type extensions\n",
    "    past_new = list() #save new data\n",
    "\n",
    "    for filename in os.listdir(fx_in):#fx_in ==inform input path.\n",
    "        print(os.path.join(filename))\n",
    "        df=pd.read_csv(filename,skiprows=2,low_memory=False) # \"skiprows=2\" start from the header (second row)\n",
    "        past_new.append(df)    \n",
    "    concatDf=pd.concat(past_new,axis=0)\n",
    " #  concatDf.to_csv(fx_out,index=None) #salve the archive consolidated in the folder selected.\n",
    "    return concatDf\n",
    "\n"
   ]
  },
  {
   "cell_type": "code",
   "execution_count": 8,
   "metadata": {},
   "outputs": [
    {
     "name": "stdout",
     "output_type": "stream",
     "text": [
      "FOLHA_LOG_20190524 (1).csv\n",
      "FOLHA_LOG_20190524 (10).csv\n",
      "FOLHA_LOG_20190524 (11).csv\n",
      "FOLHA_LOG_20190524 (12).csv\n",
      "FOLHA_LOG_20190524 (13).csv\n",
      "FOLHA_LOG_20190524 (14).csv\n",
      "FOLHA_LOG_20190524 (15).csv\n",
      "FOLHA_LOG_20190524 (16).csv\n",
      "FOLHA_LOG_20190524 (2).csv\n",
      "FOLHA_LOG_20190524 (3).csv\n",
      "FOLHA_LOG_20190524 (4).csv\n",
      "FOLHA_LOG_20190524 (5).csv\n",
      "FOLHA_LOG_20190524 (6).csv\n",
      "FOLHA_LOG_20190524 (7).csv\n",
      "FOLHA_LOG_20190524 (8).csv\n",
      "FOLHA_LOG_20190524 (9).csv\n",
      "FOLHA_LOG_20190524.csv\n"
     ]
    }
   ],
   "source": [
    "# execute  function to read and concatenate multiple files into a single\n",
    "\n",
    "fx_in = \"C:\\\\Users\\\\jonys.arcanjo\\\\arquivos_sac\" #fx_in: Define to path the archives (input)\n",
    "fx_out = \"C:\\\\Users\\\\jonys.arcanjo\\\\arquivos_sac\\ConcatenadoNovo.csv\" #fx_out: Define the path where to be the salve to\n",
    "                                                                      #new consolidate archive  (output)\n",
    "\n",
    "df_consolidated = concatenate(fx_in, fx_out)\n"
   ]
  },
  {
   "cell_type": "code",
   "execution_count": 9,
   "metadata": {},
   "outputs": [
    {
     "data": {
      "text/html": [
       "<div>\n",
       "<style scoped>\n",
       "    .dataframe tbody tr th:only-of-type {\n",
       "        vertical-align: middle;\n",
       "    }\n",
       "\n",
       "    .dataframe tbody tr th {\n",
       "        vertical-align: top;\n",
       "    }\n",
       "\n",
       "    .dataframe thead th {\n",
       "        text-align: right;\n",
       "    }\n",
       "</style>\n",
       "<table border=\"1\" class=\"dataframe\">\n",
       "  <thead>\n",
       "    <tr style=\"text-align: right;\">\n",
       "      <th></th>\n",
       "      <th>Versão</th>\n",
       "      <th>Indicador</th>\n",
       "      <th>Centro de Custo</th>\n",
       "      <th>Filial</th>\n",
       "      <th>Grupo Cargo</th>\n",
       "      <th>Cargo</th>\n",
       "      <th>Matricula</th>\n",
       "      <th>Fonte</th>\n",
       "      <th>Empresa</th>\n",
       "      <th>Time</th>\n",
       "      <th>Audit Time</th>\n",
       "      <th>Audit User</th>\n",
       "      <th>SignedData - Old</th>\n",
       "      <th>SignedData - New</th>\n",
       "      <th>SignedData - Delta</th>\n",
       "      <th>Audit Action</th>\n",
       "    </tr>\n",
       "  </thead>\n",
       "  <tbody>\n",
       "    <tr>\n",
       "      <th>0</th>\n",
       "      <td>public.V2019_003</td>\n",
       "      <td>FOL_QL</td>\n",
       "      <td>0310142102</td>\n",
       "      <td>3101</td>\n",
       "      <td>04</td>\n",
       "      <td>3100_00001146</td>\n",
       "      <td>3101_00005161</td>\n",
       "      <td>CALC</td>\n",
       "      <td>#</td>\n",
       "      <td>201911</td>\n",
       "      <td>2019.05.24 11:02:42</td>\n",
       "      <td>ADMIN</td>\n",
       "      <td>0.0</td>\n",
       "      <td>1.000000</td>\n",
       "      <td>1.000000</td>\n",
       "      <td>New</td>\n",
       "    </tr>\n",
       "    <tr>\n",
       "      <th>1</th>\n",
       "      <td>public.V2019_003</td>\n",
       "      <td>FOL_FERIAS</td>\n",
       "      <td>0310142102</td>\n",
       "      <td>3101</td>\n",
       "      <td>05</td>\n",
       "      <td>3100_00000929</td>\n",
       "      <td>3101_00005641</td>\n",
       "      <td>CALC</td>\n",
       "      <td>#</td>\n",
       "      <td>201902</td>\n",
       "      <td>2019.05.24 11:02:42</td>\n",
       "      <td>ADMIN</td>\n",
       "      <td>0.0</td>\n",
       "      <td>88.634167</td>\n",
       "      <td>88.634167</td>\n",
       "      <td>New</td>\n",
       "    </tr>\n",
       "    <tr>\n",
       "      <th>2</th>\n",
       "      <td>public.V2019_003</td>\n",
       "      <td>FOL_PREM_VAR_SOMA_SALARIOS_CLT_APRENDIZ_ESTAGIO</td>\n",
       "      <td>0310142102</td>\n",
       "      <td>3101</td>\n",
       "      <td>05</td>\n",
       "      <td>3100_00000626</td>\n",
       "      <td>3101_00005437</td>\n",
       "      <td>CALC</td>\n",
       "      <td>#</td>\n",
       "      <td>201905</td>\n",
       "      <td>2019.05.24 11:02:42</td>\n",
       "      <td>ADMIN</td>\n",
       "      <td>0.0</td>\n",
       "      <td>1336.540000</td>\n",
       "      <td>1336.540000</td>\n",
       "      <td>New</td>\n",
       "    </tr>\n",
       "    <tr>\n",
       "      <th>3</th>\n",
       "      <td>public.V2019_003</td>\n",
       "      <td>FOL_INSS_13_SALARIO</td>\n",
       "      <td>0310142102</td>\n",
       "      <td>3101</td>\n",
       "      <td>05</td>\n",
       "      <td>3100_00000626</td>\n",
       "      <td>3101_00005437</td>\n",
       "      <td>CALC</td>\n",
       "      <td>#</td>\n",
       "      <td>201905</td>\n",
       "      <td>2019.05.24 11:02:42</td>\n",
       "      <td>ADMIN</td>\n",
       "      <td>0.0</td>\n",
       "      <td>31.470000</td>\n",
       "      <td>31.470000</td>\n",
       "      <td>New</td>\n",
       "    </tr>\n",
       "    <tr>\n",
       "      <th>4</th>\n",
       "      <td>public.V2019_003</td>\n",
       "      <td>FOL_CONTRIBUICAO_SENAI</td>\n",
       "      <td>0310142102</td>\n",
       "      <td>3101</td>\n",
       "      <td>05</td>\n",
       "      <td>3100_00000626</td>\n",
       "      <td>3101_00005437</td>\n",
       "      <td>CALC</td>\n",
       "      <td>#</td>\n",
       "      <td>201901</td>\n",
       "      <td>2019.05.24 11:02:42</td>\n",
       "      <td>ADMIN</td>\n",
       "      <td>0.0</td>\n",
       "      <td>2.673080</td>\n",
       "      <td>2.673080</td>\n",
       "      <td>New</td>\n",
       "    </tr>\n",
       "  </tbody>\n",
       "</table>\n",
       "</div>"
      ],
      "text/plain": [
       "             Versão                                        Indicador  \\\n",
       "0  public.V2019_003                                           FOL_QL   \n",
       "1  public.V2019_003                                       FOL_FERIAS   \n",
       "2  public.V2019_003  FOL_PREM_VAR_SOMA_SALARIOS_CLT_APRENDIZ_ESTAGIO   \n",
       "3  public.V2019_003                              FOL_INSS_13_SALARIO   \n",
       "4  public.V2019_003                           FOL_CONTRIBUICAO_SENAI   \n",
       "\n",
       "  Centro de Custo Filial Grupo Cargo          Cargo      Matricula Fonte  \\\n",
       "0      0310142102   3101          04  3100_00001146  3101_00005161  CALC   \n",
       "1      0310142102   3101          05  3100_00000929  3101_00005641  CALC   \n",
       "2      0310142102   3101          05  3100_00000626  3101_00005437  CALC   \n",
       "3      0310142102   3101          05  3100_00000626  3101_00005437  CALC   \n",
       "4      0310142102   3101          05  3100_00000626  3101_00005437  CALC   \n",
       "\n",
       "  Empresa    Time           Audit Time Audit User  SignedData - Old  \\\n",
       "0       #  201911  2019.05.24 11:02:42      ADMIN               0.0   \n",
       "1       #  201902  2019.05.24 11:02:42      ADMIN               0.0   \n",
       "2       #  201905  2019.05.24 11:02:42      ADMIN               0.0   \n",
       "3       #  201905  2019.05.24 11:02:42      ADMIN               0.0   \n",
       "4       #  201901  2019.05.24 11:02:42      ADMIN               0.0   \n",
       "\n",
       "   SignedData - New  SignedData - Delta Audit Action  \n",
       "0          1.000000            1.000000          New  \n",
       "1         88.634167           88.634167          New  \n",
       "2       1336.540000         1336.540000          New  \n",
       "3         31.470000           31.470000          New  \n",
       "4          2.673080            2.673080          New  "
      ]
     },
     "execution_count": 9,
     "metadata": {},
     "output_type": "execute_result"
    }
   ],
   "source": [
    "# Display archive consolidated. \n",
    "df_consolidated.head()"
   ]
  },
  {
   "cell_type": "code",
   "execution_count": 15,
   "metadata": {},
   "outputs": [
    {
     "data": {
      "text/html": [
       "<div>\n",
       "<style scoped>\n",
       "    .dataframe tbody tr th:only-of-type {\n",
       "        vertical-align: middle;\n",
       "    }\n",
       "\n",
       "    .dataframe tbody tr th {\n",
       "        vertical-align: top;\n",
       "    }\n",
       "\n",
       "    .dataframe thead th {\n",
       "        text-align: right;\n",
       "    }\n",
       "</style>\n",
       "<table border=\"1\" class=\"dataframe\">\n",
       "  <thead>\n",
       "    <tr style=\"text-align: right;\">\n",
       "      <th></th>\n",
       "      <th>Versao</th>\n",
       "      <th>Indicador</th>\n",
       "      <th>Centro_de_Custo</th>\n",
       "      <th>Filial</th>\n",
       "      <th>Grupo_Cargo</th>\n",
       "      <th>Cargo</th>\n",
       "      <th>Matricula</th>\n",
       "      <th>Fonte</th>\n",
       "      <th>Empresa</th>\n",
       "      <th>Time</th>\n",
       "      <th>Periodo_auditoria</th>\n",
       "      <th>Audit User</th>\n",
       "      <th>SignedData - Old</th>\n",
       "      <th>SignedData - New</th>\n",
       "      <th>Signed_Data_Delta</th>\n",
       "      <th>Acao_auditoria</th>\n",
       "    </tr>\n",
       "  </thead>\n",
       "  <tbody>\n",
       "  </tbody>\n",
       "</table>\n",
       "</div>"
      ],
      "text/plain": [
       "Empty DataFrame\n",
       "Columns: [Versao, Indicador, Centro_de_Custo, Filial, Grupo_Cargo, Cargo, Matricula, Fonte, Empresa, Time, Periodo_auditoria, Audit User, SignedData - Old, SignedData - New, Signed_Data_Delta, Acao_auditoria]\n",
       "Index: []"
      ]
     },
     "execution_count": 15,
     "metadata": {},
     "output_type": "execute_result"
    }
   ],
   "source": [
    "# Rename header\n",
    "\n",
    "concatDf = df_consolidated.rename(columns={\n",
    "                                    'Versão':'Versao',\n",
    "                                    'Audit Time': 'Periodo_auditoria',\n",
    "                                    'Centro de Custo':'Centro_de_Custo',\n",
    "                                   'Grupo Cargo':'Grupo_Cargo',\n",
    "                                   'Usuário de auditoria':'Usuario_de_auditoria',\n",
    "                                   'SignedData - Antigo':'Signed_Data_Antigo',\n",
    "                                   'SignedData - Novo':'Signed_Data_Novo',\n",
    "                                   'SignedData - Delta':'Signed_Data_Delta',\n",
    "                                    'Audit Action':'Acao_auditoria'\n",
    "                                   })\n",
    "concatDf.head(0)"
   ]
  },
  {
   "cell_type": "code",
   "execution_count": 17,
   "metadata": {
    "scrolled": true
   },
   "outputs": [
    {
     "data": {
      "text/html": [
       "<div>\n",
       "<style scoped>\n",
       "    .dataframe tbody tr th:only-of-type {\n",
       "        vertical-align: middle;\n",
       "    }\n",
       "\n",
       "    .dataframe tbody tr th {\n",
       "        vertical-align: top;\n",
       "    }\n",
       "\n",
       "    .dataframe thead th {\n",
       "        text-align: right;\n",
       "    }\n",
       "</style>\n",
       "<table border=\"1\" class=\"dataframe\">\n",
       "  <thead>\n",
       "    <tr style=\"text-align: right;\">\n",
       "      <th></th>\n",
       "      <th>Versao</th>\n",
       "      <th>Indicador</th>\n",
       "      <th>Centro_de_Custo</th>\n",
       "      <th>Filial</th>\n",
       "      <th>Grupo_Cargo</th>\n",
       "      <th>Cargo</th>\n",
       "      <th>Matricula</th>\n",
       "      <th>Fonte</th>\n",
       "      <th>Empresa</th>\n",
       "      <th>Time</th>\n",
       "      <th>Periodo_auditoria</th>\n",
       "      <th>Audit User</th>\n",
       "      <th>SignedData - Old</th>\n",
       "      <th>SignedData - New</th>\n",
       "      <th>Signed_Data_Delta</th>\n",
       "      <th>Acao_auditoria</th>\n",
       "    </tr>\n",
       "  </thead>\n",
       "  <tbody>\n",
       "  </tbody>\n",
       "</table>\n",
       "</div>"
      ],
      "text/plain": [
       "Empty DataFrame\n",
       "Columns: [Versao, Indicador, Centro_de_Custo, Filial, Grupo_Cargo, Cargo, Matricula, Fonte, Empresa, Time, Periodo_auditoria, Audit User, SignedData - Old, SignedData - New, Signed_Data_Delta, Acao_auditoria]\n",
       "Index: []"
      ]
     },
     "execution_count": 17,
     "metadata": {},
     "output_type": "execute_result"
    }
   ],
   "source": [
    "# Display last five rows (select datetime: > 2019.05.22 11:50:15 and < 2019.05.22 13:00:15 )\n",
    "ped_aud = concatDf[(concatDf['Periodo_auditoria'] > '2019.05.22 11:50:15') & (concatDf['Periodo_auditoria'] < '2019.05.22 13:00:15')]\n",
    "ped_aud.tail()\n"
   ]
  },
  {
   "cell_type": "code",
   "execution_count": 18,
   "metadata": {},
   "outputs": [
    {
     "data": {
      "text/plain": [
       "Acao_auditoria\n",
       "Delete          5\n",
       "Modify     220620\n",
       "New       1046427\n",
       "dtype: int64"
      ]
     },
     "execution_count": 18,
     "metadata": {},
     "output_type": "execute_result"
    }
   ],
   "source": [
    "# Summary of actions realized  - column \"Acao_auditoria\"\n",
    "concatDf.groupby(['Acao_auditoria']).size()"
   ]
  },
  {
   "cell_type": "code",
   "execution_count": 19,
   "metadata": {
    "scrolled": true
   },
   "outputs": [
    {
     "data": {
      "text/plain": [
       "Periodo_auditoria\n",
       "2019.05.24 07:58:17      1929\n",
       "2019.05.24 08:06:19         8\n",
       "2019.05.24 08:08:56         1\n",
       "2019.05.24 08:14:30        27\n",
       "2019.05.24 08:17:26        54\n",
       "2019.05.24 09:49:36    665033\n",
       "2019.05.24 10:59:46    103549\n",
       "2019.05.24 11:02:42    496451\n",
       "dtype: int64"
      ]
     },
     "execution_count": 19,
     "metadata": {},
     "output_type": "execute_result"
    }
   ],
   "source": [
    "# Aggregating data - column \"Periodo_auditoria\"\n",
    "concatDf.groupby(['Periodo_auditoria']).size()"
   ]
  },
  {
   "cell_type": "code",
   "execution_count": 20,
   "metadata": {},
   "outputs": [
    {
     "data": {
      "text/plain": [
       "Periodo_auditoria    Acao_auditoria\n",
       "2019.05.24 07:58:17  Delete                 4\n",
       "                     Modify                 5\n",
       "                     New                 1920\n",
       "2019.05.24 08:06:19  New                    8\n",
       "2019.05.24 08:08:56  Delete                 1\n",
       "2019.05.24 08:14:30  Modify                27\n",
       "2019.05.24 08:17:26  Modify                54\n",
       "2019.05.24 09:49:36  Modify            220534\n",
       "                     New               444499\n",
       "2019.05.24 10:59:46  New               103549\n",
       "2019.05.24 11:02:42  New               496451\n",
       "dtype: int64"
      ]
     },
     "execution_count": 20,
     "metadata": {},
     "output_type": "execute_result"
    }
   ],
   "source": [
    "# Summary of actions by type and datetime\n",
    "group_excluir = concatDf.groupby(['Periodo_auditoria','Acao_auditoria'],as_index=False)[['Periodo_auditoria','Acao_auditoria']]\n",
    "\n",
    "group_excluir.size()"
   ]
  },
  {
   "cell_type": "code",
   "execution_count": 22,
   "metadata": {},
   "outputs": [
    {
     "data": {
      "image/png": "[encoded data removed]",
      "text/plain": [
       "<Figure size 1008x720 with 1 Axes>"
      ]
     },
     "metadata": {
      "needs_background": "light"
     },
     "output_type": "display_data"
    }
   ],
   "source": [
    "# Graph - total of actions by type and datetime.\n",
    "df = concatDf.groupby(['Periodo_auditoria','Acao_auditoria']).size().unstack().plot.barh(figsize=(14,10))\n"
   ]
  }
 ],
 "metadata": {
  "kernelspec": {
   "display_name": "Python 3",
   "language": "python",
   "name": "python3"
  },
  "language_info": {
   "codemirror_mode": {
    "name": "ipython",
    "version": 3
   },
   "file_extension": ".py",
   "mimetype": "text/x-python",
   "name": "python",
   "nbconvert_exporter": "python",
   "pygments_lexer": "ipython3",
   "version": "3.7.1"
  }
 },
 "nbformat": 4,
 "nbformat_minor": 2
}
